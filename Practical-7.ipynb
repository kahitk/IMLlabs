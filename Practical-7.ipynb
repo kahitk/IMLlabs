{
 "cells": [
  {
   "cell_type": "code",
   "execution_count": 5,
   "id": "57fa1819",
   "metadata": {},
   "outputs": [
    {
     "name": "stdout",
     "output_type": "stream",
     "text": [
      "     Name  Age    Enrollment\n",
      "0  Kalpit   18  206270307074\n",
      "1   Dhruv   17  216270307058\n",
      "2   Sumit   18  216270307049\n"
     ]
    }
   ],
   "source": [
    "#Practical-7 \n",
    "#Kalpit thanki\n",
    "#206270307074\n",
    "import pandas as pd\n",
    "\n",
    "details = {\n",
    "    'Name': ['Kalpit', 'Dhruv', 'Sumit'],\n",
    "    'Age': [18, 17, 18],\n",
    "    'Enrollment': [206270307074, 216270307058, 216270307049]\n",
    "}\n",
    "\n",
    "# Creating a DataFrame from the dictionary\n",
    "df = pd.DataFrame(details)\n",
    "\n",
    "# Print the DataFrame\n",
    "print(df)\n"
   ]
  },
  {
   "cell_type": "code",
   "execution_count": 6,
   "id": "4558cc71",
   "metadata": {},
   "outputs": [
    {
     "name": "stdout",
     "output_type": "stream",
     "text": [
      "     Name  Age    Enrollment\n",
      "1   Dhruv   17  216270307058\n",
      "0  Kalpit   18  206270307074\n",
      "2   Sumit   18  216270307049\n"
     ]
    }
   ],
   "source": [
    "#to sort the DataFrame first by 'name' in ascending order \n",
    "import numpy as np\n",
    "import pandas as pd \n",
    "details = { 'Name' : ['Kalpit', 'Dhruv', 'Sumit'], \n",
    "'Age' : [18, 17, 18], \n",
    "'Enrollment' : [206270307074, 216270307058, 216270307049] } \n",
    "print(pd.DataFrame(details, columns = ['Name', 'Age','Enrollment']).sort_values(by = ['Name']))\n"
   ]
  },
  {
   "cell_type": "code",
   "execution_count": 8,
   "id": "feb716b4",
   "metadata": {},
   "outputs": [
    {
     "name": "stdout",
     "output_type": "stream",
     "text": [
      "     Name    Enrollment\n",
      "0  Kalpit  206270307074\n",
      "1   Dhruv  216270307058\n",
      "2   Sumit  216270307049\n"
     ]
    }
   ],
   "source": [
    "#to delete the one specific column from the DataFrame \n",
    "import pandas as pd \n",
    "import numpy as np \n",
    "details = { 'Name' : ['Kalpit', 'Dhruv', 'Sumit'],\n",
    " 'Age' : [18, 17, 18],\n",
    " 'Enrollment' : [206270307074, 216270307058, 216270307049] } \n",
    "print(pd.DataFrame(details, columns = ['Name', 'Age', 'Enrollment']).drop(['Age'], axis = 1))\n"
   ]
  },
  {
   "cell_type": "code",
   "execution_count": 9,
   "id": "a83b9766",
   "metadata": {},
   "outputs": [
    {
     "name": "stdout",
     "output_type": "stream",
     "text": [
      "\n",
      "Data from Students.csv : \n",
      "        \\tName\\tAge\\tEnrollment\n",
      "0  0\\tKalpit\\t18\\t206270307074\n",
      "1   1\\tDhruv\\t17\\t216270307058\n",
      "2   2\\tSumit\\t18\\t216270307049\n"
     ]
    }
   ],
   "source": [
    "#to write a DataFrame to CSV file using tab separator \n",
    "import pandas as pd\n",
    "import numpy as np\n",
    "details = { 'Name' : ['Kalpit', 'Dhruv', 'Sumit'],\n",
    "'Age' : [18, 17, 18], \n",
    "'Enrollment' : [206270307074, 216270307058, 216270307049] }\n",
    "data_frame = pd.DataFrame(details, columns = ['Name', 'Age', 'Enrollment'])\n",
    "data_frame.to_csv('Details.csv', sep = '\\t')\n",
    " # Saving as a CSV file\n",
    "new_data_frame = pd.read_csv('Details.csv') \n",
    "# loading the CSV file\n",
    "print('\\nData from Students.csv : \\n', new_data_frame)\n"
   ]
  },
  {
   "cell_type": "code",
   "execution_count": null,
   "id": "3565044b",
   "metadata": {},
   "outputs": [],
   "source": []
  }
 ],
 "metadata": {
  "kernelspec": {
   "display_name": "Python 3 (ipykernel)",
   "language": "python",
   "name": "python3"
  },
  "language_info": {
   "codemirror_mode": {
    "name": "ipython",
    "version": 3
   },
   "file_extension": ".py",
   "mimetype": "text/x-python",
   "name": "python",
   "nbconvert_exporter": "python",
   "pygments_lexer": "ipython3",
   "version": "3.11.4"
  }
 },
 "nbformat": 4,
 "nbformat_minor": 5
}
