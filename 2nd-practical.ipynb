{
 "cells": [
  {
   "cell_type": "code",
   "execution_count": 1,
   "id": "31178116",
   "metadata": {},
   "outputs": [
    {
     "name": "stdout",
     "output_type": "stream",
     "text": [
      "Original List: [2, 0, 7, 4]\n",
      "One-dimensional NumPy array:  2074\n"
     ]
    }
   ],
   "source": [
    "#Kalpit Thanki\n",
    "#206270307074\n",
    "#1.to convert a list of numeric values into a one-dimensional NumPy array\n",
    "import numpy as np\n",
    "a2074 = [2,0,7,4]\n",
    "print(\"Original List:\",a2074)\n",
    "b2074 = np.array(2074)\n",
    "print(\"One-dimensional NumPy array: \",b2074)\n"
   ]
  },
  {
   "cell_type": "code",
   "execution_count": 2,
   "id": "048388ba",
   "metadata": {},
   "outputs": [
    {
     "name": "stdout",
     "output_type": "stream",
     "text": [
      "[[ 2  3  4]\n",
      " [ 5  6  7]\n",
      " [ 8  9 10]]\n"
     ]
    }
   ],
   "source": [
    "#2.to create a 3x3 matrix with values ranging from 2 to 10\n",
    "c2074 =  np.arange(2, 11).reshape(3,3)\n",
    "print(c2074)\n"
   ]
  },
  {
   "cell_type": "code",
   "execution_count": 3,
   "id": "806f0b01",
   "metadata": {},
   "outputs": [
    {
     "name": "stdout",
     "output_type": "stream",
     "text": [
      "Original array:\n",
      "[2, 0]\n",
      "After append:\n",
      "[2 0 7 4]\n"
     ]
    }
   ],
   "source": [
    "#3.to append values at the end of an array\n",
    "d2074 = [2,0]\n",
    "print(\"Original array:\")\n",
    "print(d2074)\n",
    "e2074 = np.append(d2074, [[7], [4]])\n",
    "print(\"After append:\")\n",
    "print(e2074)\n",
    "\n"
   ]
  },
  {
   "cell_type": "code",
   "execution_count": 4,
   "id": "c5cc8e2e",
   "metadata": {},
   "outputs": [
    {
     "name": "stdout",
     "output_type": "stream",
     "text": [
      "Reshape 3x2:\n",
      "[[2 0]\n",
      " [7 0]\n",
      " [7 4]]\n",
      "Reshape 2x3:\n",
      "[[2 0 7]\n",
      " [0 7 4]]\n"
     ]
    }
   ],
   "source": [
    "#4.to create another shape from an array without changing its data (3*2 to 2*3)\n",
    "f2074 = np.array([2, 0, 7, 0, 7,4 ])\n",
    "g2074 = np.reshape(f2074,(3,2))\n",
    "print(\"Reshape 3x2:\")\n",
    "print(g2074)\n",
    "h2074 = np.reshape(f2074,(2,3))\n",
    "print(\"Reshape 2x3:\")\n",
    "print(h2074)\n"
   ]
  },
  {
   "cell_type": "code",
   "execution_count": null,
   "id": "d9a5f5e1",
   "metadata": {},
   "outputs": [],
   "source": []
  }
 ],
 "metadata": {
  "kernelspec": {
   "display_name": "Python 3 (ipykernel)",
   "language": "python",
   "name": "python3"
  },
  "language_info": {
   "codemirror_mode": {
    "name": "ipython",
    "version": 3
   },
   "file_extension": ".py",
   "mimetype": "text/x-python",
   "name": "python",
   "nbconvert_exporter": "python",
   "pygments_lexer": "ipython3",
   "version": "3.11.4"
  }
 },
 "nbformat": 4,
 "nbformat_minor": 5
}
