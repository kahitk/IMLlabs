{
 "cells": [
  {
   "cell_type": "code",
   "execution_count": 9,
   "id": "f031176f",
   "metadata": {},
   "outputs": [],
   "source": [
    "#Practical 4\n",
    "#kalpit thanki\n",
    "#20627030704\n",
    "# 1.to add, subtract, multiply, divide arguments element-wise\n",
    "import numpy as np\n",
    "a2074=np.array([1,2,3,4,5,6])"
   ]
  },
  {
   "cell_type": "code",
   "execution_count": 10,
   "id": "296bc833",
   "metadata": {},
   "outputs": [
    {
     "name": "stdout",
     "output_type": "stream",
     "text": [
      "Array before adding: [1 2 3 4 5 6]\n"
     ]
    }
   ],
   "source": [
    "print(\"Array before adding:\",a2074)"
   ]
  },
  {
   "cell_type": "code",
   "execution_count": 11,
   "id": "31869196",
   "metadata": {},
   "outputs": [],
   "source": [
    "b2074=np.add(a2074,2)"
   ]
  },
  {
   "cell_type": "code",
   "execution_count": 12,
   "id": "101e8c5c",
   "metadata": {},
   "outputs": [
    {
     "name": "stdout",
     "output_type": "stream",
     "text": [
      "[3 4 5 6 7 8]\n"
     ]
    }
   ],
   "source": [
    "print(b2074)"
   ]
  },
  {
   "cell_type": "code",
   "execution_count": 13,
   "id": "abdcd03c",
   "metadata": {},
   "outputs": [
    {
     "name": "stdout",
     "output_type": "stream",
     "text": [
      "[2.5 3.5 4.5 5.5 6.5 7.5]\n"
     ]
    }
   ],
   "source": [
    "c2074=np.subtract(b2074,0.5)\n",
    "print(c2074)"
   ]
  },
  {
   "cell_type": "code",
   "execution_count": 14,
   "id": "35d92fc7",
   "metadata": {},
   "outputs": [
    {
     "name": "stdout",
     "output_type": "stream",
     "text": [
      "[ 3.75  5.25  6.75  8.25  9.75 11.25]\n"
     ]
    }
   ],
   "source": [
    "d2074=np.multiply(c2074,1.5)\n",
    "print(d2074)"
   ]
  },
  {
   "cell_type": "code",
   "execution_count": 15,
   "id": "92aa6d62",
   "metadata": {},
   "outputs": [
    {
     "name": "stdout",
     "output_type": "stream",
     "text": [
      "[2.5 3.5 4.5 5.5 6.5 7.5]\n"
     ]
    }
   ],
   "source": [
    "e2074=np.divide(d2074,1.5)\n",
    "print(e2074)"
   ]
  },
  {
   "cell_type": "code",
   "execution_count": 16,
   "id": "079140c6",
   "metadata": {},
   "outputs": [
    {
     "name": "stdout",
     "output_type": "stream",
     "text": [
      "[1. 0. 2.]\n"
     ]
    }
   ],
   "source": [
    "#2.to round elements of the array to the nearest integer\n",
    "print(np.round([1.2,.3,1.9]))"
   ]
  },
  {
   "cell_type": "code",
   "execution_count": 17,
   "id": "edc43f87",
   "metadata": {},
   "outputs": [
    {
     "name": "stdout",
     "output_type": "stream",
     "text": [
      "[1. 2.]\n"
     ]
    }
   ],
   "source": [
    "print(np.around([1.4,1.9]))"
   ]
  },
  {
   "cell_type": "code",
   "execution_count": 18,
   "id": "af6e3e98",
   "metadata": {},
   "outputs": [
    {
     "name": "stdout",
     "output_type": "stream",
     "text": [
      "[1. 2.]\n"
     ]
    }
   ],
   "source": [
    "print(np.rint([1.2,1.9]))"
   ]
  },
  {
   "cell_type": "code",
   "execution_count": 19,
   "id": "b9883442",
   "metadata": {},
   "outputs": [
    {
     "name": "stdout",
     "output_type": "stream",
     "text": [
      "[[10 10]\n",
      " [20 30]]\n"
     ]
    }
   ],
   "source": [
    "#3.to calculate mean across dimension, in a 2D numpy array\n",
    "f7074=np.array(([10,10],[20,30]))\n",
    "print(f7074)"
   ]
  },
  {
   "cell_type": "code",
   "execution_count": 20,
   "id": "e374caea",
   "metadata": {},
   "outputs": [
    {
     "name": "stdout",
     "output_type": "stream",
     "text": [
      "[10. 25.]\n",
      "[15. 20.]\n"
     ]
    }
   ],
   "source": [
    "print(np.mean(f7074,axis=1))\n",
    "print(np.mean(f7074,axis=0))"
   ]
  },
  {
   "cell_type": "code",
   "execution_count": 21,
   "id": "63006c72",
   "metadata": {},
   "outputs": [
    {
     "name": "stdout",
     "output_type": "stream",
     "text": [
      "[7 0 7 4]\n"
     ]
    }
   ],
   "source": [
    "#4.to calculate the difference between neighboring elements, element-wise of a given array\n",
    "g7074=np.array([1,8,8,15,19])\n",
    "print(np.diff(g7074))"
   ]
  },
  {
   "cell_type": "code",
   "execution_count": 22,
   "id": "f2fe3f08",
   "metadata": {},
   "outputs": [
    {
     "name": "stdout",
     "output_type": "stream",
     "text": [
      "[2 0 6 2 7 0 3 0 7 0 7 4]\n"
     ]
    }
   ],
   "source": [
    "h7074=np.array([1,3,3,9,11,18,18,21,21,28,28,35,39])\n",
    "print(np.diff(h7074))"
   ]
  },
  {
   "cell_type": "code",
   "execution_count": 23,
   "id": "f9682ea5",
   "metadata": {},
   "outputs": [
    {
     "name": "stdout",
     "output_type": "stream",
     "text": [
      "[9 4 2 9 4 5 5 8 3 0]\n"
     ]
    }
   ],
   "source": [
    "i7074=np.array([1,10,14,16,25,29,34,39,47,50,50])\n",
    "k=print(np.diff(i7074))"
   ]
  },
  {
   "cell_type": "code",
   "execution_count": 24,
   "id": "0af42035",
   "metadata": {},
   "outputs": [
    {
     "name": "stdout",
     "output_type": "stream",
     "text": [
      "[0 3 8 5 5 4 9 2 4 9]\n"
     ]
    }
   ],
   "source": [
    "j7074=np.array([1,1,4,12,17,22,26,35,37,41,50])\n",
    "print(np.diff(j7074))"
   ]
  },
  {
   "cell_type": "code",
   "execution_count": 29,
   "id": "54f41d47",
   "metadata": {},
   "outputs": [
    {
     "name": "stdout",
     "output_type": "stream",
     "text": [
      "[9 4 2 9 4 5 5 8 3 0]\n"
     ]
    }
   ],
   "source": [
    "k=np.diff(i7074)\n",
    "print(k)"
   ]
  },
  {
   "cell_type": "code",
   "execution_count": 30,
   "id": "c247da10",
   "metadata": {},
   "outputs": [
    {
     "name": "stdout",
     "output_type": "stream",
     "text": [
      "[0 3 8 5 5 4 9 2 4 9]\n"
     ]
    }
   ],
   "source": [
    "print(np.flip(k))"
   ]
  },
  {
   "cell_type": "code",
   "execution_count": null,
   "id": "8dc51802",
   "metadata": {},
   "outputs": [],
   "source": []
  },
  {
   "cell_type": "code",
   "execution_count": null,
   "id": "9d60e83a",
   "metadata": {},
   "outputs": [],
   "source": []
  }
 ],
 "metadata": {
  "kernelspec": {
   "display_name": "Python 3 (ipykernel)",
   "language": "python",
   "name": "python3"
  },
  "language_info": {
   "codemirror_mode": {
    "name": "ipython",
    "version": 3
   },
   "file_extension": ".py",
   "mimetype": "text/x-python",
   "name": "python",
   "nbconvert_exporter": "python",
   "pygments_lexer": "ipython3",
   "version": "3.11.4"
  }
 },
 "nbformat": 4,
 "nbformat_minor": 5
}
