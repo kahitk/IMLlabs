{
 "cells": [
  {
   "cell_type": "code",
   "execution_count": 1,
   "id": "fafeae14",
   "metadata": {},
   "outputs": [],
   "source": [
    "#Practical-6 \n",
    "#Kalpit thanki\n",
    "#206270307074\n",
    "#1 to convert a NumPy array to a Pandas series \n",
    "import pandas as pd\n",
    "import numpy as np"
   ]
  },
  {
   "cell_type": "code",
   "execution_count": 25,
   "id": "9f5b840d",
   "metadata": {},
   "outputs": [
    {
     "name": "stdout",
     "output_type": "stream",
     "text": [
      "array [5 4 3 2 1]\n"
     ]
    }
   ],
   "source": [
    "a7074=np.array([5,4,3,2,1])\n",
    "print(\"Array:\",a7074)"
   ]
  },
  {
   "cell_type": "code",
   "execution_count": 27,
   "id": "231d278c",
   "metadata": {},
   "outputs": [
    {
     "name": "stdout",
     "output_type": "stream",
     "text": [
      "Series: 0    5\n",
      "1    4\n",
      "2    3\n",
      "3    2\n",
      "4    1\n",
      "dtype: int32\n"
     ]
    }
   ],
   "source": [
    "b2074= pd.Series(a7074)\n",
    "print(\"Series:\",b2074)"
   ]
  },
  {
   "cell_type": "code",
   "execution_count": 4,
   "id": "14ed354b",
   "metadata": {},
   "outputs": [
    {
     "name": "stdout",
     "output_type": "stream",
     "text": [
      "   number   color\n",
      "0       1     red\n",
      "1       2    blue\n",
      "2       3   green\n",
      "3       4  orange\n"
     ]
    }
   ],
   "source": [
    "#2 to convert the first column of a DataFrame as a Series \n",
    "c2074=pd.DataFrame({'number':[1,2,3,4],'color':['red','blue','green','orange']})\n",
    "print(c2074)"
   ]
  },
  {
   "cell_type": "code",
   "execution_count": 28,
   "id": "d098bc0b",
   "metadata": {},
   "outputs": [
    {
     "name": "stdout",
     "output_type": "stream",
     "text": [
      "First Column: 0    1\n",
      "1    2\n",
      "2    3\n",
      "3    4\n",
      "Name: number, dtype: int64\n"
     ]
    }
   ],
   "source": [
    "d2074=c2074['number']\n",
    "print(\"First Column:\",d2074)"
   ]
  },
  {
   "cell_type": "code",
   "execution_count": 7,
   "id": "973f1ecd",
   "metadata": {},
   "outputs": [
    {
     "name": "stdout",
     "output_type": "stream",
     "text": [
      "0       red\n",
      "1      blue\n",
      "2     green\n",
      "3    orange\n",
      "Name: color, dtype: object\n"
     ]
    }
   ],
   "source": [
    "d2074=c2074['color']\n",
    "print(d2074)"
   ]
  },
  {
   "cell_type": "code",
   "execution_count": 29,
   "id": "3ccd9155",
   "metadata": {},
   "outputs": [
    {
     "name": "stdout",
     "output_type": "stream",
     "text": [
      "Series 0    12\n",
      "1    23\n",
      "2    35\n",
      "3    24\n",
      "4    55\n",
      "5    86\n",
      "6    57\n",
      "7    18\n",
      "8    49\n",
      "9    14\n",
      "dtype: int64\n"
     ]
    }
   ],
   "source": [
    "#3 to create the mean and standard deviation of the data of a given Series \n",
    "e2074=pd.Series([12,23,35,24,55,86,57,18,49,14])\n",
    "print(\"Series\",e2074)"
   ]
  },
  {
   "cell_type": "code",
   "execution_count": 31,
   "id": "5c910d90",
   "metadata": {},
   "outputs": [
    {
     "name": "stdout",
     "output_type": "stream",
     "text": [
      "Mean: 37.3\n"
     ]
    }
   ],
   "source": [
    "f2074=print(\"Mean:\",e2074.mean())"
   ]
  },
  {
   "cell_type": "code",
   "execution_count": 33,
   "id": "fd3ae586",
   "metadata": {},
   "outputs": [
    {
     "name": "stdout",
     "output_type": "stream",
     "text": [
      "Standard Deviation: 23.926043458030325\n"
     ]
    }
   ],
   "source": [
    "g2074=print(\"Standard Deviation:\",e2074.std())"
   ]
  },
  {
   "cell_type": "code",
   "execution_count": 34,
   "id": "292484a6",
   "metadata": {},
   "outputs": [
    {
     "name": "stdout",
     "output_type": "stream",
     "text": [
      "Ascending-Order: 0    12\n",
      "9    14\n",
      "7    18\n",
      "1    23\n",
      "3    24\n",
      "2    35\n",
      "8    49\n",
      "4    55\n",
      "6    57\n",
      "5    86\n",
      "dtype: int64\n"
     ]
    }
   ],
   "source": [
    "#4 to sort a given Series \n",
    "h2074=print(\"Ascending-Order:\",e2074.sort_values(ascending=True))"
   ]
  },
  {
   "cell_type": "code",
   "execution_count": 19,
   "id": "c5437946",
   "metadata": {},
   "outputs": [
    {
     "name": "stdout",
     "output_type": "stream",
     "text": [
      "5    86\n",
      "6    57\n",
      "4    55\n",
      "8    49\n",
      "2    35\n",
      "3    24\n",
      "1    23\n",
      "7    18\n",
      "9    14\n",
      "0    12\n",
      "dtype: int64\n"
     ]
    }
   ],
   "source": [
    "i2074=print(\"Descending-Order:\",e2074.sort_values(ascending = False))"
   ]
  },
  {
   "cell_type": "code",
   "execution_count": null,
   "id": "cd084627",
   "metadata": {},
   "outputs": [],
   "source": []
  }
 ],
 "metadata": {
  "kernelspec": {
   "display_name": "Python 3 (ipykernel)",
   "language": "python",
   "name": "python3"
  },
  "language_info": {
   "codemirror_mode": {
    "name": "ipython",
    "version": 3
   },
   "file_extension": ".py",
   "mimetype": "text/x-python",
   "name": "python",
   "nbconvert_exporter": "python",
   "pygments_lexer": "ipython3",
   "version": "3.11.4"
  }
 },
 "nbformat": 4,
 "nbformat_minor": 5
}
