{
 "cells": [
  {
   "cell_type": "code",
   "execution_count": 1,
   "id": "10fa93db",
   "metadata": {},
   "outputs": [
    {
     "name": "stdout",
     "output_type": "stream",
     "text": [
      "Original array: [ 1  2  3  4  5  6  7  8  9 10 11 12 13 14]\n",
      "After splitting:\n",
      "[array([1, 2]), array([3, 4, 5, 6]), array([ 7,  8,  9, 10, 11, 12, 13, 14])]\n"
     ]
    }
   ],
   "source": [
    "#kalpit thanki\n",
    "#206270307074\n",
    "#1.to split an array of 14 elements into 3 arrays, each with 2, 4, and 8 elements in the original order\n",
    "import numpy as np\n",
    "a2074 = np.arange(1, 15)\n",
    "print(\"Original array:\",a2074)\n",
    "print(\"After splitting:\")\n",
    "print(np.split(a2074, [2, 6]))\n"
   ]
  },
  {
   "cell_type": "code",
   "execution_count": 5,
   "id": "077618c6",
   "metadata": {},
   "outputs": [
    {
     "data": {
      "text/plain": [
       "array([2, 0, 6, 2, 7, 0, 3, 0, 7, 0, 7, 4])"
      ]
     },
     "execution_count": 5,
     "metadata": {},
     "output_type": "execute_result"
    }
   ],
   "source": [
    "#2.to stack arrays horizontally (column wise)\n",
    "b2074=np.array((2,0,6,2,7,0))\n",
    "c2074=np.array((3,0,7,0,7,4))\n",
    "np.hstack((b2074,c2074))"
   ]
  },
  {
   "cell_type": "code",
   "execution_count": null,
   "id": "8813b448",
   "metadata": {},
   "outputs": [],
   "source": []
  }
 ],
 "metadata": {
  "kernelspec": {
   "display_name": "Python 3 (ipykernel)",
   "language": "python",
   "name": "python3"
  },
  "language_info": {
   "codemirror_mode": {
    "name": "ipython",
    "version": 3
   },
   "file_extension": ".py",
   "mimetype": "text/x-python",
   "name": "python",
   "nbconvert_exporter": "python",
   "pygments_lexer": "ipython3",
   "version": "3.11.4"
  }
 },
 "nbformat": 4,
 "nbformat_minor": 5
}
